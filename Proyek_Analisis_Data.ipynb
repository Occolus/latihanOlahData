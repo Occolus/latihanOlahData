{
  "cells": [
    {
      "cell_type": "markdown",
      "metadata": {
        "id": "H9wADwK78DCz"
      },
      "source": [
        "# Proyek Analisis Data: [Bike Sharing Dataset]\n",
        "- **Nama:** Muhammad Naufal Rahmatullah\n",
        "- **Email:** mc253d5y0305@student.devacademy.id\n",
        "- **ID Dicoding:** MC253D5Y0305"
      ]
    },
    {
      "cell_type": "markdown",
      "metadata": {
        "id": "eE0raob58DC0"
      },
      "source": [
        "## Menentukan Pertanyaan Bisnis"
      ]
    },
    {
      "cell_type": "markdown",
      "metadata": {
        "id": "GmQeQ5YF8DC0"
      },
      "source": [
        "- Bagaimana popularitas atau tren Bike Sharing dalam tahun tersebut, di tahun berapa yang lebih banyak pemakainya?\n",
        "- Bagaimana pengaruh cuaca terhadap perkembangan bike sharing yang mungkin menjadi pendukung atau bahkan tantangan terhadap potensi market yang telah ditemukan?"
      ]
    },
    {
      "cell_type": "markdown",
      "metadata": {
        "id": "H-z4QGlO8DC1"
      },
      "source": [
        "## Import Semua Packages/Library yang Digunakan"
      ]
    },
    {
      "cell_type": "code",
      "execution_count": 68,
      "metadata": {
        "id": "FVYwaObI8DC1"
      },
      "outputs": [],
      "source": [
        "import pandas as pd\n",
        "import numpy as np\n",
        "import matplotlib.pyplot as plt\n",
        "import matplotlib\n",
        "%matplotlib inline\n",
        "import seaborn as sns"
      ]
    },
    {
      "cell_type": "markdown",
      "metadata": {
        "id": "h_Sh51Xy8DC1"
      },
      "source": [
        "## Data Wrangling"
      ]
    },
    {
      "cell_type": "markdown",
      "metadata": {
        "id": "sXU2GBYu8DC1"
      },
      "source": [
        "### Gathering Data"
      ]
    },
    {
      "cell_type": "code",
      "execution_count": 69,
      "metadata": {
        "id": "zjCBk1BI8DC1"
      },
      "outputs": [
        {
          "name": "stdout",
          "output_type": "stream",
          "text": [
            "     instant      dteday  season  yr  mnth  holiday  weekday  workingday  \\\n",
            "0          1  2011-01-01       1   0     1        0        6           0   \n",
            "1          2  2011-01-02       1   0     1        0        0           0   \n",
            "2          3  2011-01-03       1   0     1        0        1           1   \n",
            "3          4  2011-01-04       1   0     1        0        2           1   \n",
            "4          5  2011-01-05       1   0     1        0        3           1   \n",
            "..       ...         ...     ...  ..   ...      ...      ...         ...   \n",
            "726      727  2012-12-27       1   1    12        0        4           1   \n",
            "727      728  2012-12-28       1   1    12        0        5           1   \n",
            "728      729  2012-12-29       1   1    12        0        6           0   \n",
            "729      730  2012-12-30       1   1    12        0        0           0   \n",
            "730      731  2012-12-31       1   1    12        0        1           1   \n",
            "\n",
            "     weathersit      temp     atemp       hum  windspeed  casual  registered  \\\n",
            "0             2  0.344167  0.363625  0.805833   0.160446     331         654   \n",
            "1             2  0.363478  0.353739  0.696087   0.248539     131         670   \n",
            "2             1  0.196364  0.189405  0.437273   0.248309     120        1229   \n",
            "3             1  0.200000  0.212122  0.590435   0.160296     108        1454   \n",
            "4             1  0.226957  0.229270  0.436957   0.186900      82        1518   \n",
            "..          ...       ...       ...       ...        ...     ...         ...   \n",
            "726           2  0.254167  0.226642  0.652917   0.350133     247        1867   \n",
            "727           2  0.253333  0.255046  0.590000   0.155471     644        2451   \n",
            "728           2  0.253333  0.242400  0.752917   0.124383     159        1182   \n",
            "729           1  0.255833  0.231700  0.483333   0.350754     364        1432   \n",
            "730           2  0.215833  0.223487  0.577500   0.154846     439        2290   \n",
            "\n",
            "      cnt  \n",
            "0     985  \n",
            "1     801  \n",
            "2    1349  \n",
            "3    1562  \n",
            "4    1600  \n",
            "..    ...  \n",
            "726  2114  \n",
            "727  3095  \n",
            "728  1341  \n",
            "729  1796  \n",
            "730  2729  \n",
            "\n",
            "[731 rows x 16 columns]\n",
            "       instant      dteday  season  yr  mnth  hr  holiday  weekday  \\\n",
            "0            1  2011-01-01       1   0     1   0        0        6   \n",
            "1            2  2011-01-01       1   0     1   1        0        6   \n",
            "2            3  2011-01-01       1   0     1   2        0        6   \n",
            "3            4  2011-01-01       1   0     1   3        0        6   \n",
            "4            5  2011-01-01       1   0     1   4        0        6   \n",
            "...        ...         ...     ...  ..   ...  ..      ...      ...   \n",
            "17374    17375  2012-12-31       1   1    12  19        0        1   \n",
            "17375    17376  2012-12-31       1   1    12  20        0        1   \n",
            "17376    17377  2012-12-31       1   1    12  21        0        1   \n",
            "17377    17378  2012-12-31       1   1    12  22        0        1   \n",
            "17378    17379  2012-12-31       1   1    12  23        0        1   \n",
            "\n",
            "       workingday  weathersit  temp   atemp   hum  windspeed  casual  \\\n",
            "0               0           1  0.24  0.2879  0.81     0.0000       3   \n",
            "1               0           1  0.22  0.2727  0.80     0.0000       8   \n",
            "2               0           1  0.22  0.2727  0.80     0.0000       5   \n",
            "3               0           1  0.24  0.2879  0.75     0.0000       3   \n",
            "4               0           1  0.24  0.2879  0.75     0.0000       0   \n",
            "...           ...         ...   ...     ...   ...        ...     ...   \n",
            "17374           1           2  0.26  0.2576  0.60     0.1642      11   \n",
            "17375           1           2  0.26  0.2576  0.60     0.1642       8   \n",
            "17376           1           1  0.26  0.2576  0.60     0.1642       7   \n",
            "17377           1           1  0.26  0.2727  0.56     0.1343      13   \n",
            "17378           1           1  0.26  0.2727  0.65     0.1343      12   \n",
            "\n",
            "       registered  cnt  \n",
            "0              13   16  \n",
            "1              32   40  \n",
            "2              27   32  \n",
            "3              10   13  \n",
            "4               1    1  \n",
            "...           ...  ...  \n",
            "17374         108  119  \n",
            "17375          81   89  \n",
            "17376          83   90  \n",
            "17377          48   61  \n",
            "17378          37   49  \n",
            "\n",
            "[17379 rows x 17 columns]\n"
          ]
        },
        {
          "name": "stderr",
          "output_type": "stream",
          "text": [
            "<>:1: SyntaxWarning: invalid escape sequence '\\d'\n",
            "<>:2: SyntaxWarning: invalid escape sequence '\\h'\n",
            "<>:1: SyntaxWarning: invalid escape sequence '\\d'\n",
            "<>:2: SyntaxWarning: invalid escape sequence '\\h'\n",
            "C:\\Users\\ASUS\\AppData\\Local\\Temp\\ipykernel_9976\\3449753464.py:1: SyntaxWarning: invalid escape sequence '\\d'\n",
            "  fileDay = pd.read_csv(\"Dashboard\\day.csv\")\n",
            "C:\\Users\\ASUS\\AppData\\Local\\Temp\\ipykernel_9976\\3449753464.py:2: SyntaxWarning: invalid escape sequence '\\h'\n",
            "  fileHour = pd.read_csv(\"Data\\hour.csv\")\n"
          ]
        }
      ],
      "source": [
        "fileDay = pd.read_csv(\"Dashboard\\day.csv\")\n",
        "fileHour = pd.read_csv(\"Data\\hour.csv\")\n",
        "print(fileDay)\n",
        "print(fileHour)"
      ]
    },
    {
      "cell_type": "markdown",
      "metadata": {
        "id": "MMi6xGaDkbCi"
      },
      "source": [
        "**Insight:**\n",
        "- dari file Day, dapat dilihat ada 8 kolom mulai dari instant, date, season, year, month, dan lainnya.\n",
        "- dari file Hour, dapat dilihat ada 7 kolom, mulai dari weathersit, temp, attemp, dan lain lain."
      ]
    },
    {
      "cell_type": "markdown",
      "metadata": {
        "id": "FHSiqaZp8DC1"
      },
      "source": [
        "### Assessing Data"
      ]
    },
    {
      "cell_type": "markdown",
      "metadata": {},
      "source": [
        "Assess data file Day"
      ]
    },
    {
      "cell_type": "code",
      "execution_count": 70,
      "metadata": {
        "id": "ax-3tEjc9Cj1"
      },
      "outputs": [
        {
          "data": {
            "text/plain": [
              "instant       0\n",
              "dteday        0\n",
              "season        0\n",
              "yr            0\n",
              "mnth          0\n",
              "holiday       0\n",
              "weekday       0\n",
              "workingday    0\n",
              "weathersit    0\n",
              "temp          0\n",
              "atemp         0\n",
              "hum           0\n",
              "windspeed     0\n",
              "casual        0\n",
              "registered    0\n",
              "cnt           0\n",
              "dtype: int64"
            ]
          },
          "execution_count": 70,
          "metadata": {},
          "output_type": "execute_result"
        }
      ],
      "source": [
        "fileDay.isnull().sum()"
      ]
    },
    {
      "cell_type": "markdown",
      "metadata": {},
      "source": [
        "Dari sisi missing value, tidak ditemukan pada file tersebut."
      ]
    },
    {
      "cell_type": "code",
      "execution_count": 71,
      "metadata": {},
      "outputs": [
        {
          "data": {
            "text/plain": [
              "np.int64(0)"
            ]
          },
          "execution_count": 71,
          "metadata": {},
          "output_type": "execute_result"
        }
      ],
      "source": [
        "fileDay.duplicated().sum()"
      ]
    },
    {
      "cell_type": "markdown",
      "metadata": {},
      "source": [
        "Dari sisi data yang terduplikasi juga tidak ada.\n"
      ]
    },
    {
      "cell_type": "markdown",
      "metadata": {},
      "source": [
        "Assess data Hours"
      ]
    },
    {
      "cell_type": "code",
      "execution_count": 72,
      "metadata": {},
      "outputs": [
        {
          "data": {
            "text/plain": [
              "instant       0\n",
              "dteday        0\n",
              "season        0\n",
              "yr            0\n",
              "mnth          0\n",
              "hr            0\n",
              "holiday       0\n",
              "weekday       0\n",
              "workingday    0\n",
              "weathersit    0\n",
              "temp          0\n",
              "atemp         0\n",
              "hum           0\n",
              "windspeed     0\n",
              "casual        0\n",
              "registered    0\n",
              "cnt           0\n",
              "dtype: int64"
            ]
          },
          "execution_count": 72,
          "metadata": {},
          "output_type": "execute_result"
        }
      ],
      "source": [
        "fileHour.isnull().sum()"
      ]
    },
    {
      "cell_type": "code",
      "execution_count": 73,
      "metadata": {},
      "outputs": [
        {
          "data": {
            "text/plain": [
              "np.int64(0)"
            ]
          },
          "execution_count": 73,
          "metadata": {},
          "output_type": "execute_result"
        }
      ],
      "source": [
        "fileHour.duplicated().sum()"
      ]
    },
    {
      "cell_type": "markdown",
      "metadata": {},
      "source": [
        "tidak ada juga terindikasi duplikasi data, jadi saya simpulkan data file dan hours bersih."
      ]
    },
    {
      "cell_type": "code",
      "execution_count": 74,
      "metadata": {},
      "outputs": [
        {
          "name": "stdout",
          "output_type": "stream",
          "text": [
            "<class 'pandas.core.frame.DataFrame'>\n",
            "RangeIndex: 731 entries, 0 to 730\n",
            "Data columns (total 16 columns):\n",
            " #   Column      Non-Null Count  Dtype  \n",
            "---  ------      --------------  -----  \n",
            " 0   instant     731 non-null    int64  \n",
            " 1   dteday      731 non-null    object \n",
            " 2   season      731 non-null    int64  \n",
            " 3   yr          731 non-null    int64  \n",
            " 4   mnth        731 non-null    int64  \n",
            " 5   holiday     731 non-null    int64  \n",
            " 6   weekday     731 non-null    int64  \n",
            " 7   workingday  731 non-null    int64  \n",
            " 8   weathersit  731 non-null    int64  \n",
            " 9   temp        731 non-null    float64\n",
            " 10  atemp       731 non-null    float64\n",
            " 11  hum         731 non-null    float64\n",
            " 12  windspeed   731 non-null    float64\n",
            " 13  casual      731 non-null    int64  \n",
            " 14  registered  731 non-null    int64  \n",
            " 15  cnt         731 non-null    int64  \n",
            "dtypes: float64(4), int64(11), object(1)\n",
            "memory usage: 91.5+ KB\n",
            "<class 'pandas.core.frame.DataFrame'>\n",
            "RangeIndex: 17379 entries, 0 to 17378\n",
            "Data columns (total 17 columns):\n",
            " #   Column      Non-Null Count  Dtype  \n",
            "---  ------      --------------  -----  \n",
            " 0   instant     17379 non-null  int64  \n",
            " 1   dteday      17379 non-null  object \n",
            " 2   season      17379 non-null  int64  \n",
            " 3   yr          17379 non-null  int64  \n",
            " 4   mnth        17379 non-null  int64  \n",
            " 5   hr          17379 non-null  int64  \n",
            " 6   holiday     17379 non-null  int64  \n",
            " 7   weekday     17379 non-null  int64  \n",
            " 8   workingday  17379 non-null  int64  \n",
            " 9   weathersit  17379 non-null  int64  \n",
            " 10  temp        17379 non-null  float64\n",
            " 11  atemp       17379 non-null  float64\n",
            " 12  hum         17379 non-null  float64\n",
            " 13  windspeed   17379 non-null  float64\n",
            " 14  casual      17379 non-null  int64  \n",
            " 15  registered  17379 non-null  int64  \n",
            " 16  cnt         17379 non-null  int64  \n",
            "dtypes: float64(4), int64(12), object(1)\n",
            "memory usage: 2.3+ MB\n"
          ]
        }
      ],
      "source": [
        "dfDay = pd.DataFrame(fileDay)\n",
        "dfHour = pd.DataFrame(fileHour)\n",
        "dfDay.info()\n",
        "dfHour.info()"
      ]
    },
    {
      "cell_type": "code",
      "execution_count": 75,
      "metadata": {},
      "outputs": [
        {
          "name": "stdout",
          "output_type": "stream",
          "text": [
            "<class 'pandas.core.frame.DataFrame'>\n",
            "RangeIndex: 731 entries, 0 to 730\n",
            "Data columns (total 16 columns):\n",
            " #   Column      Non-Null Count  Dtype  \n",
            "---  ------      --------------  -----  \n",
            " 0   instant     731 non-null    int64  \n",
            " 1   dteday      731 non-null    object \n",
            " 2   season      731 non-null    int64  \n",
            " 3   yr          731 non-null    int64  \n",
            " 4   mnth        731 non-null    int64  \n",
            " 5   holiday     731 non-null    int64  \n",
            " 6   weekday     731 non-null    int64  \n",
            " 7   workingday  731 non-null    int64  \n",
            " 8   weathersit  731 non-null    int64  \n",
            " 9   temp        731 non-null    float64\n",
            " 10  atemp       731 non-null    float64\n",
            " 11  hum         731 non-null    float64\n",
            " 12  windspeed   731 non-null    float64\n",
            " 13  casual      731 non-null    int64  \n",
            " 14  registered  731 non-null    int64  \n",
            " 15  cnt         731 non-null    int64  \n",
            "dtypes: float64(4), int64(11), object(1)\n",
            "memory usage: 91.5+ KB\n"
          ]
        }
      ],
      "source": [
        "dfDay.info()"
      ]
    },
    {
      "cell_type": "markdown",
      "metadata": {},
      "source": [
        "**Insight:**\n",
        "Setelah di cek saya tidak menemukan data yang terduplikasi ataupun missing value, namun terdapat ketidak sesuaian tipe data pada kolom dteday yang awalnya object menjadi datetime"
      ]
    },
    {
      "cell_type": "code",
      "execution_count": 76,
      "metadata": {},
      "outputs": [
        {
          "data": {
            "text/html": [
              "<div>\n",
              "<style scoped>\n",
              "    .dataframe tbody tr th:only-of-type {\n",
              "        vertical-align: middle;\n",
              "    }\n",
              "\n",
              "    .dataframe tbody tr th {\n",
              "        vertical-align: top;\n",
              "    }\n",
              "\n",
              "    .dataframe thead th {\n",
              "        text-align: right;\n",
              "    }\n",
              "</style>\n",
              "<table border=\"1\" class=\"dataframe\">\n",
              "  <thead>\n",
              "    <tr style=\"text-align: right;\">\n",
              "      <th></th>\n",
              "      <th>instant</th>\n",
              "      <th>dteday</th>\n",
              "      <th>season</th>\n",
              "      <th>yr</th>\n",
              "      <th>mnth</th>\n",
              "      <th>holiday</th>\n",
              "      <th>weekday</th>\n",
              "      <th>workingday</th>\n",
              "      <th>weathersit</th>\n",
              "      <th>temp</th>\n",
              "      <th>atemp</th>\n",
              "      <th>hum</th>\n",
              "      <th>windspeed</th>\n",
              "      <th>casual</th>\n",
              "      <th>registered</th>\n",
              "      <th>cnt</th>\n",
              "      <th>hr</th>\n",
              "    </tr>\n",
              "  </thead>\n",
              "  <tbody>\n",
              "    <tr>\n",
              "      <th>0</th>\n",
              "      <td>1</td>\n",
              "      <td>2011-01-01</td>\n",
              "      <td>1</td>\n",
              "      <td>0</td>\n",
              "      <td>1</td>\n",
              "      <td>0</td>\n",
              "      <td>6</td>\n",
              "      <td>0</td>\n",
              "      <td>2</td>\n",
              "      <td>0.344167</td>\n",
              "      <td>0.363625</td>\n",
              "      <td>0.805833</td>\n",
              "      <td>0.160446</td>\n",
              "      <td>331</td>\n",
              "      <td>654</td>\n",
              "      <td>985</td>\n",
              "      <td>0</td>\n",
              "    </tr>\n",
              "    <tr>\n",
              "      <th>1</th>\n",
              "      <td>1</td>\n",
              "      <td>2011-01-01</td>\n",
              "      <td>1</td>\n",
              "      <td>0</td>\n",
              "      <td>1</td>\n",
              "      <td>0</td>\n",
              "      <td>6</td>\n",
              "      <td>0</td>\n",
              "      <td>2</td>\n",
              "      <td>0.344167</td>\n",
              "      <td>0.363625</td>\n",
              "      <td>0.805833</td>\n",
              "      <td>0.160446</td>\n",
              "      <td>331</td>\n",
              "      <td>654</td>\n",
              "      <td>985</td>\n",
              "      <td>1</td>\n",
              "    </tr>\n",
              "    <tr>\n",
              "      <th>2</th>\n",
              "      <td>1</td>\n",
              "      <td>2011-01-01</td>\n",
              "      <td>1</td>\n",
              "      <td>0</td>\n",
              "      <td>1</td>\n",
              "      <td>0</td>\n",
              "      <td>6</td>\n",
              "      <td>0</td>\n",
              "      <td>2</td>\n",
              "      <td>0.344167</td>\n",
              "      <td>0.363625</td>\n",
              "      <td>0.805833</td>\n",
              "      <td>0.160446</td>\n",
              "      <td>331</td>\n",
              "      <td>654</td>\n",
              "      <td>985</td>\n",
              "      <td>2</td>\n",
              "    </tr>\n",
              "    <tr>\n",
              "      <th>3</th>\n",
              "      <td>1</td>\n",
              "      <td>2011-01-01</td>\n",
              "      <td>1</td>\n",
              "      <td>0</td>\n",
              "      <td>1</td>\n",
              "      <td>0</td>\n",
              "      <td>6</td>\n",
              "      <td>0</td>\n",
              "      <td>2</td>\n",
              "      <td>0.344167</td>\n",
              "      <td>0.363625</td>\n",
              "      <td>0.805833</td>\n",
              "      <td>0.160446</td>\n",
              "      <td>331</td>\n",
              "      <td>654</td>\n",
              "      <td>985</td>\n",
              "      <td>3</td>\n",
              "    </tr>\n",
              "    <tr>\n",
              "      <th>4</th>\n",
              "      <td>1</td>\n",
              "      <td>2011-01-01</td>\n",
              "      <td>1</td>\n",
              "      <td>0</td>\n",
              "      <td>1</td>\n",
              "      <td>0</td>\n",
              "      <td>6</td>\n",
              "      <td>0</td>\n",
              "      <td>2</td>\n",
              "      <td>0.344167</td>\n",
              "      <td>0.363625</td>\n",
              "      <td>0.805833</td>\n",
              "      <td>0.160446</td>\n",
              "      <td>331</td>\n",
              "      <td>654</td>\n",
              "      <td>985</td>\n",
              "      <td>4</td>\n",
              "    </tr>\n",
              "  </tbody>\n",
              "</table>\n",
              "</div>"
            ],
            "text/plain": [
              "   instant      dteday  season  yr  mnth  holiday  weekday  workingday  \\\n",
              "0        1  2011-01-01       1   0     1        0        6           0   \n",
              "1        1  2011-01-01       1   0     1        0        6           0   \n",
              "2        1  2011-01-01       1   0     1        0        6           0   \n",
              "3        1  2011-01-01       1   0     1        0        6           0   \n",
              "4        1  2011-01-01       1   0     1        0        6           0   \n",
              "\n",
              "   weathersit      temp     atemp       hum  windspeed  casual  registered  \\\n",
              "0           2  0.344167  0.363625  0.805833   0.160446     331         654   \n",
              "1           2  0.344167  0.363625  0.805833   0.160446     331         654   \n",
              "2           2  0.344167  0.363625  0.805833   0.160446     331         654   \n",
              "3           2  0.344167  0.363625  0.805833   0.160446     331         654   \n",
              "4           2  0.344167  0.363625  0.805833   0.160446     331         654   \n",
              "\n",
              "   cnt  hr  \n",
              "0  985   0  \n",
              "1  985   1  \n",
              "2  985   2  \n",
              "3  985   3  \n",
              "4  985   4  "
            ]
          },
          "execution_count": 76,
          "metadata": {},
          "output_type": "execute_result"
        }
      ],
      "source": [
        "merged_df = pd.merge(dfDay, dfHour[['dteday', 'hr']], on='dteday', how='inner')\n",
        "\n",
        "merged_df.head()"
      ]
    },
    {
      "cell_type": "markdown",
      "metadata": {},
      "source": [
        "**Insight:**\n",
        "Karena dari kedua tabel tersebut hanya ada satu perbedaan yaitu pada kolom hr pada dataframe hours, maka saya memutuskan untuk menyatukannya menjadi satu tabel."
      ]
    },
    {
      "cell_type": "markdown",
      "metadata": {
        "id": "EhN5R4hr8DC1"
      },
      "source": [
        "### Cleaning Data"
      ]
    },
    {
      "cell_type": "code",
      "execution_count": 77,
      "metadata": {},
      "outputs": [],
      "source": [
        "merged_df['mnth'] = merged_df['mnth'].map({\n",
        "    1:'January', 2:'February', 3:'March', 4:'April',\n",
        "    5:'May', 6:'June', 7:'July', 8:'August',\n",
        "    9:'September', 10:'October', 11:'November', 12:'December'\n",
        "})\n",
        "month_order = ['January', 'February', 'March', 'April', 'May', 'June',\n",
        "               'July', 'August', 'September', 'October', 'November', 'December']\n",
        "\n",
        "merged_df['mnth'] = pd.Categorical(merged_df['mnth'], categories=month_order, ordered=True)\n"
      ]
    },
    {
      "cell_type": "markdown",
      "metadata": {},
      "source": [
        "Memberikan Penamaan bulan, serta kondisi cuaca, musim"
      ]
    },
    {
      "cell_type": "code",
      "execution_count": 78,
      "metadata": {},
      "outputs": [
        {
          "name": "stdout",
          "output_type": "stream",
          "text": [
            "weekday       category\n",
            "holiday       category\n",
            "weathersit    category\n",
            "dtype: object\n",
            "category\n"
          ]
        }
      ],
      "source": [
        "merged_df['season'] = merged_df['season'].map({\n",
        "    1: 'Winter', 2: 'Spring', 3: 'Summer', 4: 'Fall'}).astype('category')\n",
        "\n",
        "merged_df['weekday'] = merged_df['weekday'].map({\n",
        "    0: 'Sunday', 1: 'Monday', 2: 'Tuesday', 3: 'Wednesday', \n",
        "    4: 'Thursday', 5: 'Friday', 6: 'Saturday'\n",
        "}).astype('category')\n",
        "\n",
        "merged_df['holiday'] = merged_df['holiday'].map({\n",
        "    0: 'No', 1: 'Yes'\n",
        "}).astype('category')\n",
        "\n",
        "merged_df['workingday'] = merged_df['workingday'].map({\n",
        "    0: 'No', 1: 'Yes'\n",
        "}).astype('category')\n",
        "merged_df['weathersit'] = merged_df['weathersit'].map({\n",
        "    1: 'Clear', 2: 'Mist', 3: 'Light Rain/Snow', 4: 'Heavy Rain/Snow'\n",
        "}).astype('category')\n",
        "\n",
        "print(merged_df[['weekday', 'holiday', 'weathersit']].dtypes)\n",
        "\n",
        "print(merged_df['season'].dtype)"
      ]
    },
    {
      "cell_type": "markdown",
      "metadata": {},
      "source": [
        "Lalu pemberian penamaan pada setiap tipe data pada kolom season, weekday, holiday, dan weathersit untuk mengirangi kebingungan."
      ]
    },
    {
      "cell_type": "code",
      "execution_count": 79,
      "metadata": {},
      "outputs": [
        {
          "data": {
            "text/html": [
              "<div>\n",
              "<style scoped>\n",
              "    .dataframe tbody tr th:only-of-type {\n",
              "        vertical-align: middle;\n",
              "    }\n",
              "\n",
              "    .dataframe tbody tr th {\n",
              "        vertical-align: top;\n",
              "    }\n",
              "\n",
              "    .dataframe thead th {\n",
              "        text-align: right;\n",
              "    }\n",
              "</style>\n",
              "<table border=\"1\" class=\"dataframe\">\n",
              "  <thead>\n",
              "    <tr style=\"text-align: right;\">\n",
              "      <th></th>\n",
              "      <th>instant</th>\n",
              "      <th>dteday</th>\n",
              "      <th>season</th>\n",
              "      <th>yr</th>\n",
              "      <th>mnth</th>\n",
              "      <th>holiday</th>\n",
              "      <th>weekday</th>\n",
              "      <th>workingday</th>\n",
              "      <th>weathersit</th>\n",
              "      <th>temp</th>\n",
              "      <th>atemp</th>\n",
              "      <th>casual</th>\n",
              "      <th>registered</th>\n",
              "      <th>cnt</th>\n",
              "      <th>hr</th>\n",
              "    </tr>\n",
              "  </thead>\n",
              "  <tbody>\n",
              "    <tr>\n",
              "      <th>0</th>\n",
              "      <td>1</td>\n",
              "      <td>2011-01-01</td>\n",
              "      <td>Winter</td>\n",
              "      <td>0</td>\n",
              "      <td>January</td>\n",
              "      <td>No</td>\n",
              "      <td>Saturday</td>\n",
              "      <td>No</td>\n",
              "      <td>Mist</td>\n",
              "      <td>0.344167</td>\n",
              "      <td>0.363625</td>\n",
              "      <td>331</td>\n",
              "      <td>654</td>\n",
              "      <td>985</td>\n",
              "      <td>0</td>\n",
              "    </tr>\n",
              "    <tr>\n",
              "      <th>1</th>\n",
              "      <td>1</td>\n",
              "      <td>2011-01-01</td>\n",
              "      <td>Winter</td>\n",
              "      <td>0</td>\n",
              "      <td>January</td>\n",
              "      <td>No</td>\n",
              "      <td>Saturday</td>\n",
              "      <td>No</td>\n",
              "      <td>Mist</td>\n",
              "      <td>0.344167</td>\n",
              "      <td>0.363625</td>\n",
              "      <td>331</td>\n",
              "      <td>654</td>\n",
              "      <td>985</td>\n",
              "      <td>1</td>\n",
              "    </tr>\n",
              "    <tr>\n",
              "      <th>2</th>\n",
              "      <td>1</td>\n",
              "      <td>2011-01-01</td>\n",
              "      <td>Winter</td>\n",
              "      <td>0</td>\n",
              "      <td>January</td>\n",
              "      <td>No</td>\n",
              "      <td>Saturday</td>\n",
              "      <td>No</td>\n",
              "      <td>Mist</td>\n",
              "      <td>0.344167</td>\n",
              "      <td>0.363625</td>\n",
              "      <td>331</td>\n",
              "      <td>654</td>\n",
              "      <td>985</td>\n",
              "      <td>2</td>\n",
              "    </tr>\n",
              "    <tr>\n",
              "      <th>3</th>\n",
              "      <td>1</td>\n",
              "      <td>2011-01-01</td>\n",
              "      <td>Winter</td>\n",
              "      <td>0</td>\n",
              "      <td>January</td>\n",
              "      <td>No</td>\n",
              "      <td>Saturday</td>\n",
              "      <td>No</td>\n",
              "      <td>Mist</td>\n",
              "      <td>0.344167</td>\n",
              "      <td>0.363625</td>\n",
              "      <td>331</td>\n",
              "      <td>654</td>\n",
              "      <td>985</td>\n",
              "      <td>3</td>\n",
              "    </tr>\n",
              "    <tr>\n",
              "      <th>4</th>\n",
              "      <td>1</td>\n",
              "      <td>2011-01-01</td>\n",
              "      <td>Winter</td>\n",
              "      <td>0</td>\n",
              "      <td>January</td>\n",
              "      <td>No</td>\n",
              "      <td>Saturday</td>\n",
              "      <td>No</td>\n",
              "      <td>Mist</td>\n",
              "      <td>0.344167</td>\n",
              "      <td>0.363625</td>\n",
              "      <td>331</td>\n",
              "      <td>654</td>\n",
              "      <td>985</td>\n",
              "      <td>4</td>\n",
              "    </tr>\n",
              "  </tbody>\n",
              "</table>\n",
              "</div>"
            ],
            "text/plain": [
              "   instant      dteday  season  yr     mnth holiday   weekday workingday  \\\n",
              "0        1  2011-01-01  Winter   0  January      No  Saturday         No   \n",
              "1        1  2011-01-01  Winter   0  January      No  Saturday         No   \n",
              "2        1  2011-01-01  Winter   0  January      No  Saturday         No   \n",
              "3        1  2011-01-01  Winter   0  January      No  Saturday         No   \n",
              "4        1  2011-01-01  Winter   0  January      No  Saturday         No   \n",
              "\n",
              "  weathersit      temp     atemp  casual  registered  cnt  hr  \n",
              "0       Mist  0.344167  0.363625     331         654  985   0  \n",
              "1       Mist  0.344167  0.363625     331         654  985   1  \n",
              "2       Mist  0.344167  0.363625     331         654  985   2  \n",
              "3       Mist  0.344167  0.363625     331         654  985   3  \n",
              "4       Mist  0.344167  0.363625     331         654  985   4  "
            ]
          },
          "execution_count": 79,
          "metadata": {},
          "output_type": "execute_result"
        }
      ],
      "source": [
        "merged_df = merged_df.drop(columns = ['hum','windspeed'])\n",
        "merged_df.head()"
      ]
    },
    {
      "cell_type": "markdown",
      "metadata": {
        "id": "Q_5ejIqckiSP"
      },
      "source": [
        "**Insight:**\n",
        "Kegiatan cleaning drop kolom hum dan windspeed karena tidak berkaitan dengan pertanyaan bisnis"
      ]
    },
    {
      "cell_type": "markdown",
      "metadata": {
        "id": "gp-Y6wU38DC1"
      },
      "source": [
        "## Exploratory Data Analysis (EDA)"
      ]
    },
    {
      "cell_type": "markdown",
      "metadata": {
        "id": "MW7WF2kr8DC1"
      },
      "source": [
        "### Explore data untuk mengelompokkan kegunaan sepeda berdasarkan hari\n"
      ]
    },
    {
      "cell_type": "code",
      "execution_count": 80,
      "metadata": {},
      "outputs": [
        {
          "name": "stderr",
          "output_type": "stream",
          "text": [
            "C:\\Users\\ASUS\\AppData\\Local\\Temp\\ipykernel_9976\\956886438.py:1: FutureWarning: The default of observed=False is deprecated and will be changed to True in a future version of pandas. Pass observed=False to retain current behavior or observed=True to adopt the future default and silence this warning.\n",
            "  holiday_data = merged_df[merged_df['holiday'] == 'Yes'].groupby('mnth')['cnt'].sum()\n",
            "C:\\Users\\ASUS\\AppData\\Local\\Temp\\ipykernel_9976\\956886438.py:2: FutureWarning: The default of observed=False is deprecated and will be changed to True in a future version of pandas. Pass observed=False to retain current behavior or observed=True to adopt the future default and silence this warning.\n",
            "  workingday_data = merged_df[merged_df['holiday'] == 'No'].groupby('mnth')['cnt'].sum()\n"
          ]
        }
      ],
      "source": [
        "holiday_data = merged_df[merged_df['holiday'] == 'Yes'].groupby('mnth')['cnt'].sum()\n",
        "workingday_data = merged_df[merged_df['holiday'] == 'No'].groupby('mnth')['cnt'].sum()"
      ]
    },
    {
      "cell_type": "markdown",
      "metadata": {},
      "source": [
        "Data diatas adalah clustering dari merged_df guna mengelompokkan pengguna yang memakai sepeda saat workingday dan holiday saja."
      ]
    },
    {
      "cell_type": "code",
      "execution_count": 81,
      "metadata": {},
      "outputs": [
        {
          "name": "stderr",
          "output_type": "stream",
          "text": [
            "C:\\Users\\ASUS\\AppData\\Local\\Temp\\ipykernel_9976\\3333454436.py:1: FutureWarning: The default of observed=False is deprecated and will be changed to True in a future version of pandas. Pass observed=False to retain current behavior or observed=True to adopt the future default and silence this warning.\n",
            "  mist_data = merged_df[merged_df['weathersit'] == 'Mist'].groupby('mnth')['cnt'].sum()\n",
            "C:\\Users\\ASUS\\AppData\\Local\\Temp\\ipykernel_9976\\3333454436.py:2: FutureWarning: The default of observed=False is deprecated and will be changed to True in a future version of pandas. Pass observed=False to retain current behavior or observed=True to adopt the future default and silence this warning.\n",
            "  clear_data = merged_df[merged_df['weathersit'] == 'Clear'].groupby('mnth')['cnt'].sum()\n",
            "C:\\Users\\ASUS\\AppData\\Local\\Temp\\ipykernel_9976\\3333454436.py:3: FutureWarning: The default of observed=False is deprecated and will be changed to True in a future version of pandas. Pass observed=False to retain current behavior or observed=True to adopt the future default and silence this warning.\n",
            "  lightrain_data = merged_df[merged_df['weathersit'] == 'Light Rain/Snow'].groupby('mnth')['cnt'].sum()\n",
            "C:\\Users\\ASUS\\AppData\\Local\\Temp\\ipykernel_9976\\3333454436.py:4: FutureWarning: The default of observed=False is deprecated and will be changed to True in a future version of pandas. Pass observed=False to retain current behavior or observed=True to adopt the future default and silence this warning.\n",
            "  Heavyrain_data = merged_df[merged_df['weathersit'] == 'Heavy Rain/Snow'].groupby('mnth')['cnt'].sum()\n"
          ]
        }
      ],
      "source": [
        "mist_data = merged_df[merged_df['weathersit'] == 'Mist'].groupby('mnth')['cnt'].sum()\n",
        "clear_data = merged_df[merged_df['weathersit'] == 'Clear'].groupby('mnth')['cnt'].sum()\n",
        "lightrain_data = merged_df[merged_df['weathersit'] == 'Light Rain/Snow'].groupby('mnth')['cnt'].sum()\n",
        "Heavyrain_data = merged_df[merged_df['weathersit'] == 'Heavy Rain/Snow'].groupby('mnth')['cnt'].sum()"
      ]
    },
    {
      "cell_type": "markdown",
      "metadata": {},
      "source": [
        "Data diatas adalah hasil dari deklarasi 4 variabel yang tujuannya untuk mengelompokkan user yang menggunakan sepeda tergantung cuacanya."
      ]
    },
    {
      "cell_type": "code",
      "execution_count": 82,
      "metadata": {
        "id": "e9CQCZjk8DC2"
      },
      "outputs": [
        {
          "name": "stdout",
          "output_type": "stream",
          "text": [
            "           dteday  casual  registered\n",
            "372    2011-01-17     117         883\n",
            "373    2011-01-17     117         883\n",
            "374    2011-01-17     117         883\n",
            "375    2011-01-17     117         883\n",
            "376    2011-01-17     117         883\n",
            "...           ...     ...         ...\n",
            "17230  2012-12-25     440         573\n",
            "17231  2012-12-25     440         573\n",
            "17232  2012-12-25     440         573\n",
            "17233  2012-12-25     440         573\n",
            "17234  2012-12-25     440         573\n",
            "\n",
            "[500 rows x 3 columns]\n"
          ]
        }
      ],
      "source": [
        "dataHolidayUser = merged_df[merged_df['holiday'] == 'Yes'][['dteday', 'casual', 'registered']]\n",
        "print(dataHolidayUser)"
      ]
    },
    {
      "cell_type": "code",
      "execution_count": 83,
      "metadata": {},
      "outputs": [
        {
          "name": "stdout",
          "output_type": "stream",
          "text": [
            "Total seluruh pengguna selama hari libur: 1875030\n"
          ]
        }
      ],
      "source": [
        "\n",
        "dataHolidayUser['total_users'] = dataHolidayUser['casual'] + dataHolidayUser['registered']\n",
        "totalHolidayUser = dataHolidayUser['total_users'].sum()\n",
        "print(\"Total seluruh pengguna selama hari libur:\", totalHolidayUser)\n"
      ]
    },
    {
      "cell_type": "markdown",
      "metadata": {},
      "source": [
        "dapat dilihat diatas tempo tertentu memiliki jumlah user diatas 1000, maka saya akan identifikasi dibulan apa saja."
      ]
    },
    {
      "cell_type": "code",
      "execution_count": 84,
      "metadata": {},
      "outputs": [
        {
          "name": "stdout",
          "output_type": "stream",
          "text": [
            "           dteday  casual  registered\n",
            "47     2011-01-03     120        1229\n",
            "48     2011-01-03     120        1229\n",
            "49     2011-01-03     120        1229\n",
            "50     2011-01-03     120        1229\n",
            "51     2011-01-03     120        1229\n",
            "...           ...     ...         ...\n",
            "17374  2012-12-31     439        2290\n",
            "17375  2012-12-31     439        2290\n",
            "17376  2012-12-31     439        2290\n",
            "17377  2012-12-31     439        2290\n",
            "17378  2012-12-31     439        2290\n",
            "\n",
            "[11865 rows x 3 columns]\n"
          ]
        }
      ],
      "source": [
        "dataWorkingdayUser = merged_df[merged_df['workingday'] == 'Yes'][['dteday', 'casual', 'registered']]\n",
        "print(dataWorkingdayUser)"
      ]
    },
    {
      "cell_type": "code",
      "execution_count": 85,
      "metadata": {},
      "outputs": [
        {
          "name": "stdout",
          "output_type": "stream",
          "text": [
            "Total seluruh pengguna selama hari kerja: 54850177\n"
          ]
        }
      ],
      "source": [
        "\n",
        "dataWorkingdayUser['total_users'] = dataWorkingdayUser['casual'] + dataWorkingdayUser['registered']\n",
        "totalWorkingUsers = dataWorkingdayUser['total_users'].sum()\n",
        "print(\"Total seluruh pengguna selama hari kerja:\", totalWorkingUsers)\n"
      ]
    },
    {
      "cell_type": "code",
      "execution_count": 86,
      "metadata": {},
      "outputs": [
        {
          "name": "stderr",
          "output_type": "stream",
          "text": [
            "C:\\Users\\ASUS\\AppData\\Local\\Temp\\ipykernel_9976\\3620285555.py:1: FutureWarning: The default of observed=False is deprecated and will be changed to True in a future version of pandas. Pass observed=False to retain current behavior or observed=True to adopt the future default and silence this warning.\n",
            "  merged_df.groupby('mnth')[['cnt']].agg(['max', 'min', 'mean', 'sum']) \\\n"
          ]
        },
        {
          "data": {
            "text/html": [
              "<div>\n",
              "<style scoped>\n",
              "    .dataframe tbody tr th:only-of-type {\n",
              "        vertical-align: middle;\n",
              "    }\n",
              "\n",
              "    .dataframe tbody tr th {\n",
              "        vertical-align: top;\n",
              "    }\n",
              "\n",
              "    .dataframe thead tr th {\n",
              "        text-align: left;\n",
              "    }\n",
              "\n",
              "    .dataframe thead tr:last-of-type th {\n",
              "        text-align: right;\n",
              "    }\n",
              "</style>\n",
              "<table border=\"1\" class=\"dataframe\">\n",
              "  <thead>\n",
              "    <tr>\n",
              "      <th></th>\n",
              "      <th colspan=\"4\" halign=\"left\">cnt</th>\n",
              "    </tr>\n",
              "    <tr>\n",
              "      <th></th>\n",
              "      <th>max</th>\n",
              "      <th>min</th>\n",
              "      <th>mean</th>\n",
              "      <th>sum</th>\n",
              "    </tr>\n",
              "    <tr>\n",
              "      <th>mnth</th>\n",
              "      <th></th>\n",
              "      <th></th>\n",
              "      <th></th>\n",
              "      <th></th>\n",
              "    </tr>\n",
              "  </thead>\n",
              "  <tbody>\n",
              "    <tr>\n",
              "      <th>June</th>\n",
              "      <td>8120</td>\n",
              "      <td>3767</td>\n",
              "      <td>5772.366667</td>\n",
              "      <td>8312208</td>\n",
              "    </tr>\n",
              "    <tr>\n",
              "      <th>September</th>\n",
              "      <td>8714</td>\n",
              "      <td>1842</td>\n",
              "      <td>5772.107864</td>\n",
              "      <td>8294519</td>\n",
              "    </tr>\n",
              "    <tr>\n",
              "      <th>August</th>\n",
              "      <td>7865</td>\n",
              "      <td>1115</td>\n",
              "      <td>5689.239322</td>\n",
              "      <td>8391628</td>\n",
              "    </tr>\n",
              "    <tr>\n",
              "      <th>July</th>\n",
              "      <td>8173</td>\n",
              "      <td>3285</td>\n",
              "      <td>5563.677419</td>\n",
              "      <td>8278752</td>\n",
              "    </tr>\n",
              "    <tr>\n",
              "      <th>May</th>\n",
              "      <td>8294</td>\n",
              "      <td>2633</td>\n",
              "      <td>5349.774194</td>\n",
              "      <td>7960464</td>\n",
              "    </tr>\n",
              "    <tr>\n",
              "      <th>October</th>\n",
              "      <td>8156</td>\n",
              "      <td>22</td>\n",
              "      <td>5319.965541</td>\n",
              "      <td>7719270</td>\n",
              "    </tr>\n",
              "    <tr>\n",
              "      <th>April</th>\n",
              "      <td>7460</td>\n",
              "      <td>795</td>\n",
              "      <td>4484.418928</td>\n",
              "      <td>6444110</td>\n",
              "    </tr>\n",
              "    <tr>\n",
              "      <th>November</th>\n",
              "      <td>6852</td>\n",
              "      <td>1495</td>\n",
              "      <td>4245.956159</td>\n",
              "      <td>6101439</td>\n",
              "    </tr>\n",
              "    <tr>\n",
              "      <th>March</th>\n",
              "      <td>8362</td>\n",
              "      <td>605</td>\n",
              "      <td>3709.164969</td>\n",
              "      <td>5463600</td>\n",
              "    </tr>\n",
              "    <tr>\n",
              "      <th>December</th>\n",
              "      <td>6606</td>\n",
              "      <td>441</td>\n",
              "      <td>3411.030344</td>\n",
              "      <td>5058558</td>\n",
              "    </tr>\n",
              "    <tr>\n",
              "      <th>February</th>\n",
              "      <td>5062</td>\n",
              "      <td>1005</td>\n",
              "      <td>2671.260999</td>\n",
              "      <td>3582161</td>\n",
              "    </tr>\n",
              "    <tr>\n",
              "      <th>January</th>\n",
              "      <td>4521</td>\n",
              "      <td>431</td>\n",
              "      <td>2228.370189</td>\n",
              "      <td>3184341</td>\n",
              "    </tr>\n",
              "  </tbody>\n",
              "</table>\n",
              "</div>"
            ],
            "text/plain": [
              "            cnt                            \n",
              "            max   min         mean      sum\n",
              "mnth                                       \n",
              "June       8120  3767  5772.366667  8312208\n",
              "September  8714  1842  5772.107864  8294519\n",
              "August     7865  1115  5689.239322  8391628\n",
              "July       8173  3285  5563.677419  8278752\n",
              "May        8294  2633  5349.774194  7960464\n",
              "October    8156    22  5319.965541  7719270\n",
              "April      7460   795  4484.418928  6444110\n",
              "November   6852  1495  4245.956159  6101439\n",
              "March      8362   605  3709.164969  5463600\n",
              "December   6606   441  3411.030344  5058558\n",
              "February   5062  1005  2671.260999  3582161\n",
              "January    4521   431  2228.370189  3184341"
            ]
          },
          "execution_count": 86,
          "metadata": {},
          "output_type": "execute_result"
        }
      ],
      "source": [
        "merged_df.groupby('mnth')[['cnt']].agg(['max', 'min', 'mean', 'sum']) \\\n",
        "     .sort_values(('cnt', 'mean'), ascending=False)"
      ]
    },
    {
      "cell_type": "code",
      "execution_count": 87,
      "metadata": {},
      "outputs": [],
      "source": [
        "dataHolidayUser = merged_df[merged_df['holiday'] == 'Yes'][['dteday', 'casual', 'registered']]\n",
        "dataHolidayUser['total_users'] = dataHolidayUser['casual'] + dataHolidayUser['registered']"
      ]
    },
    {
      "cell_type": "code",
      "execution_count": 88,
      "metadata": {},
      "outputs": [
        {
          "name": "stdout",
          "output_type": "stream",
          "text": [
            "Rata-rata total pengguna: 4533.692962771161\n"
          ]
        }
      ],
      "source": [
        "meanAllUsers = merged_df['cnt'].mean()\n",
        "print(\"Rata-rata total pengguna:\", meanAllUsers)"
      ]
    },
    {
      "cell_type": "markdown",
      "metadata": {
        "id": "th_Lzl2Fkj9O"
      },
      "source": [
        "**Insight:**\n",
        "- setelah melakukan pengumpulan data mengenai perbandingan saat user memakai bike disaat holiday atau workingday dapat disimpulkan saat workingday penggunaan lebih tinggi.\n",
        "- setelah melakukan penghitungan rata rata dari seluruh jumlah user, dapat ditemukan jarak waktu kapan user akan memakai bike"
      ]
    },
    {
      "cell_type": "markdown",
      "metadata": {
        "id": "zsyZjqak8DC2"
      },
      "source": [
        "## Visualization & Explanatory Analysis"
      ]
    },
    {
      "cell_type": "markdown",
      "metadata": {
        "id": "HZxOiQ6n8DC2"
      },
      "source": [
        "### Pertanyaan 1: Apa hubungan dari kepentingan user terhadap pemakaian Bike Sharing?\n"
      ]
    },
    {
      "cell_type": "code",
      "execution_count": 89,
      "metadata": {},
      "outputs": [
        {
          "name": "stderr",
          "output_type": "stream",
          "text": [
            "C:\\Users\\ASUS\\AppData\\Local\\Temp\\ipykernel_9976\\4102257502.py:1: FutureWarning: The default of observed=False is deprecated and will be changed to True in a future version of pandas. Pass observed=False to retain current behavior or observed=True to adopt the future default and silence this warning.\n",
            "  data2011 = merged_df[merged_df['yr'] == 0].groupby('mnth')['cnt'].sum()\n",
            "C:\\Users\\ASUS\\AppData\\Local\\Temp\\ipykernel_9976\\4102257502.py:2: FutureWarning: The default of observed=False is deprecated and will be changed to True in a future version of pandas. Pass observed=False to retain current behavior or observed=True to adopt the future default and silence this warning.\n",
            "  data2012 = merged_df[merged_df['yr'] == 1].groupby('mnth')['cnt'].sum()\n"
          ]
        }
      ],
      "source": [
        "data2011 = merged_df[merged_df['yr'] == 0].groupby('mnth')['cnt'].sum()\n",
        "data2012 = merged_df[merged_df['yr'] == 1].groupby('mnth')['cnt'].sum()\n",
        "data2011 = data2011.sort_index()\n",
        "data2012 = data2012.sort_index()"
      ]
    },
    {
      "cell_type": "code",
      "execution_count": 96,
      "metadata": {},
      "outputs": [
        {
          "data": {
            "image/png": "[encoded data removed]",
            "text/plain": [
              "<Figure size 1000x500 with 1 Axes>"
            ]
          },
          "metadata": {},
          "output_type": "display_data"
        }
      ],
      "source": [
        "plt.figure(figsize=(10, 5))\n",
        "\n",
        "plt.plot(data2011.index, data2011.values, label='2011', marker='o', color='orange')\n",
        "plt.plot(data2012.index, data2012.values, label='2012', marker='o', color='skyblue')\n",
        "\n",
        "plt.grid(True)\n",
        "plt.title('Total Bike Rentals per Month (2011 vs 2012)')\n",
        "plt.xlabel('Month')\n",
        "plt.ylabel('Total Bike Rentals (cnt)')\n",
        "plt.grid(True)\n",
        "plt.legend()\n",
        "plt.tight_layout()\n",
        "plt.show()\n"
      ]
    },
    {
      "cell_type": "markdown",
      "metadata": {},
      "source": [
        "Setelah visualisasi keduanya, saya akan membandingkannya dengan cara menyatukannya."
      ]
    },
    {
      "cell_type": "markdown",
      "metadata": {},
      "source": [
        "**Insight:**\n",
        "- setelah melakukan pengelompokkan data berdasarkan tahunnya, dapat disimpulkan tren tersebut naik jika dibangdingkan dengan tahun sebelumnya."
      ]
    },
    {
      "cell_type": "markdown",
      "metadata": {},
      "source": []
    },
    {
      "cell_type": "markdown",
      "metadata": {
        "id": "DgHI7CiU8DC2"
      },
      "source": [
        "### Pertanyaan 2: Bagaimana pengaruh cuaca terhadap perkembangan bike sharing yang mungkin menjadi pendukung atau bahkan tantangan terhadap potensi market yang telah ditemukan?"
      ]
    },
    {
      "cell_type": "code",
      "execution_count": 97,
      "metadata": {
        "id": "Go0lCsvO8DC2"
      },
      "outputs": [
        {
          "data": {
            "image/png": "[encoded data removed]",
            "text/plain": [
              "<Figure size 1500x500 with 1 Axes>"
            ]
          },
          "metadata": {},
          "output_type": "display_data"
        }
      ],
      "source": [
        "plt.figure(figsize=(15, 5))\n",
        "\n",
        "plt.plot(mist_data.index, mist_data.values, label='Mist', marker='o', color='orange')\n",
        "plt.plot(clear_data.index, clear_data.values, label='Clear', marker='o', color='skyblue')\n",
        "plt.plot(lightrain_data.index, lightrain_data.values, label='Light Rain/Snow', marker='o', color='green')\n",
        "plt.plot(Heavyrain_data.index, Heavyrain_data.values, label='Heavy Rain/Snow', marker='o', color='red')\n",
        "\n",
        "plt.grid(True)\n",
        "\n",
        "plt.title('Total Bike Rentals per Month Based on Weather Conditions')\n",
        "plt.xlabel('Month')\n",
        "plt.ylabel('Total Bike Rentals (cnt)')\n",
        "\n",
        "plt.legend()\n",
        "\n",
        "plt.show()"
      ]
    },
    {
      "cell_type": "code",
      "execution_count": 94,
      "metadata": {},
      "outputs": [
        {
          "data": {
            "text/plain": [
              "Text(0, 0.5, 'total user')"
            ]
          },
          "execution_count": 94,
          "metadata": {},
          "output_type": "execute_result"
        },
        {
          "data": {
            "image/png": "[encoded data removed]",
            "text/plain": [
              "<Figure size 1000x500 with 1 Axes>"
            ]
          },
          "metadata": {},
          "output_type": "display_data"
        }
      ],
      "source": [
        "weather_data = {\n",
        "    'Mist': mist_data.sum(),\n",
        "    'Clear': clear_data.sum(),\n",
        "    'Light Rain/Snow': lightrain_data.sum(),\n",
        "    'Heavy Rain/Snow': Heavyrain_data.sum(),\n",
        "}\n",
        "\n",
        "# Creating a bar chart\n",
        "plt.figure(figsize=(10, 5))\n",
        "plt.bar(weather_data.keys(), weather_data.values(), color=['orange', 'skyblue', 'green', 'red'])\n",
        "\n",
        "# Adding labels and title\n",
        "plt.title('Total Bike Rentals Based on Weather Conditions')\n",
        "plt.xlabel('Weather Condition')\n",
        "plt.ylabel('total user')"
      ]
    },
    {
      "cell_type": "markdown",
      "metadata": {
        "id": "_0-36BDLklRg"
      },
      "source": [
        "**Insight:**\n",
        "- Perbandingan di grafik tersebut memperlihatkan betapa kontrasnya perbedaan pengguna saat cuaca Clear, lightrain, dan heavyrain."
      ]
    },
    {
      "cell_type": "markdown",
      "metadata": {
        "id": "9y4VUsmcYNZ5"
      },
      "source": [
        "## Analisis Lanjutan (Opsional)"
      ]
    },
    {
      "cell_type": "code",
      "execution_count": null,
      "metadata": {
        "id": "iWhnzsJGYUCO"
      },
      "outputs": [],
      "source": []
    },
    {
      "cell_type": "markdown",
      "metadata": {
        "id": "_WeHlCeX8DC2"
      },
      "source": [
        "## Conclusion"
      ]
    },
    {
      "cell_type": "markdown",
      "metadata": {
        "id": "ZTcyR48Y8DC2"
      },
      "source": [
        "- Conclution pertanyaan 1: Tren Penggunaan Sepeda (2011 vs 2012): Setelah melakukan clustering terhadap data pengguna sepeda pada tahun 2011 dan 2012, dapat disimpulkan bahwa tren penggunaan sepeda menunjukkan peningkatan yang signifikan pada tahun 2012. Hal ini menunjukkan bahwa sepeda menjadi pilihan transportasi yang semakin populer di tahun berikutnya, yang mungkin disebabkan oleh faktor-faktor seperti peningkatan kesadaran akan gaya hidup sehat, kemudahan mobilitas, dan kebijakan yang mendukung penggunaan sepeda di kota-kota besar\n",
        "- Conclution pertanyaan 2: Berdasarkan analisis pengaruh cuaca terhadap penggunaan sepeda, terlihat bahwa cuaca cerah (Clear) memiliki pengaruh yang sangat signifikan terhadap tingginya penggunaan sepeda. Bulan September menunjukkan lonjakan drastis dalam penggunaan sepeda, dibandingkan dengan bulan November yang cenderung lebih rendah, terutama saat cuaca sedikit hujan atau hujan deras. Hal ini menyoroti tantangan terbesar bagi penyedia layanan bike-sharing, yaitu pengaruh cuaca yang kurang mendukung, di mana penggunaan sepeda menjadi jauh lebih sedikit saat cuaca buruk. Grafik yang menunjukkan penggunaan sepeda selama cuaca cerah dan hujan menunjukkan perbedaan yang jelas, dengan grafik hijau dan oranye yang mencerminkan penurunan penggunaan saat cuaca hujan."
      ]
    },
    {
      "cell_type": "markdown",
      "metadata": {},
      "source": []
    }
  ],
  "metadata": {
    "colab": {
      "provenance": []
    },
    "kernelspec": {
      "display_name": "Python 3",
      "language": "python",
      "name": "python3"
    },
    "language_info": {
      "codemirror_mode": {
        "name": "ipython",
        "version": 3
      },
      "file_extension": ".py",
      "mimetype": "text/x-python",
      "name": "python",
      "nbconvert_exporter": "python",
      "pygments_lexer": "ipython3",
      "version": "3.13.2"
    },
    "orig_nbformat": 4,
    "vscode": {
      "interpreter": {
        "hash": "972b3bf27e332e87b5379f2791f6ef9dfc79c71018c370b0d7423235e20fe4d7"
      }
    }
  },
  "nbformat": 4,
  "nbformat_minor": 0
}
